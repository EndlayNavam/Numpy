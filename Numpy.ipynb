{
  "nbformat": 4,
  "nbformat_minor": 0,
  "metadata": {
    "colab": {
      "provenance": [],
      "authorship_tag": "ABX9TyPmLTq3tZ0sE7d7fq0lIEpx",
      "include_colab_link": true
    },
    "kernelspec": {
      "name": "python3",
      "display_name": "Python 3"
    },
    "language_info": {
      "name": "python"
    }
  },
  "cells": [
    {
      "cell_type": "markdown",
      "metadata": {
        "id": "view-in-github",
        "colab_type": "text"
      },
      "source": [
        "<a href=\"https://colab.research.google.com/github/EndlayNavam/Numpy/blob/main/Numpy.ipynb\" target=\"_parent\"><img src=\"https://colab.research.google.com/assets/colab-badge.svg\" alt=\"Open In Colab\"/></a>"
      ]
    },
    {
      "cell_type": "markdown",
      "source": [
        "System Specifications:"
      ],
      "metadata": {
        "id": "Dp2cLoDyItOC"
      }
    },
    {
      "cell_type": "code",
      "source": [
        "! pip install pandas"
      ],
      "metadata": {
        "colab": {
          "base_uri": "https://localhost:8080/"
        },
        "id": "B47SYAdTI0W6",
        "outputId": "93453dba-1454-498f-f036-eb64a5bfe1d0"
      },
      "execution_count": null,
      "outputs": [
        {
          "output_type": "stream",
          "name": "stdout",
          "text": [
            "Requirement already satisfied: pandas in /usr/local/lib/python3.11/dist-packages (2.2.2)\n",
            "Requirement already satisfied: numpy>=1.23.2 in /usr/local/lib/python3.11/dist-packages (from pandas) (2.0.2)\n",
            "Requirement already satisfied: python-dateutil>=2.8.2 in /usr/local/lib/python3.11/dist-packages (from pandas) (2.9.0.post0)\n",
            "Requirement already satisfied: pytz>=2020.1 in /usr/local/lib/python3.11/dist-packages (from pandas) (2025.2)\n",
            "Requirement already satisfied: tzdata>=2022.7 in /usr/local/lib/python3.11/dist-packages (from pandas) (2025.2)\n",
            "Requirement already satisfied: six>=1.5 in /usr/local/lib/python3.11/dist-packages (from python-dateutil>=2.8.2->pandas) (1.17.0)\n"
          ]
        }
      ]
    },
    {
      "cell_type": "code",
      "source": [
        "import numpy as np"
      ],
      "metadata": {
        "id": "h7Wn1q3fJv7B"
      },
      "execution_count": null,
      "outputs": []
    },
    {
      "cell_type": "code",
      "source": [
        "c = np.array([(1,2,3,4), (5,6,7,8)], dtype=float)\n",
        "print (c)"
      ],
      "metadata": {
        "colab": {
          "base_uri": "https://localhost:8080/"
        },
        "id": "uI86ZoVGSS07",
        "outputId": "0c09983a-02f2-496f-dc67-73f641d60eae"
      },
      "execution_count": null,
      "outputs": [
        {
          "output_type": "stream",
          "name": "stdout",
          "text": [
            "[[1. 2. 3. 4.]\n",
            " [5. 6. 7. 8.]]\n"
          ]
        }
      ]
    },
    {
      "cell_type": "code",
      "source": [
        "#create a numpy of ones"
      ],
      "metadata": {
        "id": "P0mQdpw6uFcX"
      },
      "execution_count": null,
      "outputs": []
    },
    {
      "cell_type": "code",
      "source": [
        "y=np.ones((3,3))\n",
        "print(y)"
      ],
      "metadata": {
        "id": "1gepKFSWuhIR"
      },
      "execution_count": null,
      "outputs": []
    },
    {
      "cell_type": "code",
      "source": [
        "#array of particular value\n",
        "z=np.full((5,4), 2.3)\n",
        "print(z)"
      ],
      "metadata": {
        "id": "rgkow9w5uoB1"
      },
      "execution_count": null,
      "outputs": []
    },
    {
      "cell_type": "code",
      "source": [
        "# create an identity matrix which means same number of rows & columns\n",
        "#All diagonal elements will be 1\n",
        "a=np.eye(4)\n",
        "print(a)"
      ],
      "metadata": {
        "id": "ZrEpuvpxuzut"
      },
      "execution_count": null,
      "outputs": []
    },
    {
      "cell_type": "code",
      "source": [
        "#create a numpy array with random values\n",
        "#It will only print between 0 and 1 (only float)\n",
        "b=np.random.random((3,4))\n",
        "print(b)"
      ],
      "metadata": {
        "id": "XkQZZBzQvQ2Z"
      },
      "execution_count": null,
      "outputs": []
    },
    {
      "cell_type": "code",
      "source": [
        "#create a numpy array with random integers of our choice\n",
        "c= np.random.randint(10,100,(3,5))\n",
        "print(c)"
      ],
      "metadata": {
        "id": "mm-6nzzavnqG"
      },
      "execution_count": null,
      "outputs": []
    },
    {
      "cell_type": "code",
      "source": [
        "# array of evenly spaced values (starting point, ending point, number of values)\n",
        "d = np.linspace(10,30,5)\n",
        "print(d)"
      ],
      "metadata": {
        "id": "3-3FuHZmv4Su"
      },
      "execution_count": null,
      "outputs": []
    },
    {
      "cell_type": "code",
      "source": [
        "# array of evenly spaced values (starting point, ending point, step between each number)\n",
        "#Last number not counted\n",
        "e = np.arange(10,30,5)\n",
        "print(e)"
      ],
      "metadata": {
        "id": "ujVqTWVhSg3j"
      },
      "execution_count": null,
      "outputs": []
    },
    {
      "cell_type": "code",
      "source": [
        "# convert list to numpy array\n",
        "list1 = [1,2,3]\n",
        "\n",
        "np_array = np.asarray(list1)\n",
        "print(np_array)\n",
        "type(np_array)"
      ],
      "metadata": {
        "id": "KcoI3wQ9TT-5"
      },
      "execution_count": null,
      "outputs": []
    },
    {
      "cell_type": "markdown",
      "source": [
        "Analysis of numpy array"
      ],
      "metadata": {
        "id": "pVkzc1gDsjFK"
      }
    },
    {
      "cell_type": "code",
      "source": [
        "c = np.random.randint(10,100,(5,5))\n",
        "print(c)"
      ],
      "metadata": {
        "id": "Md-SvH_3ssDT"
      },
      "execution_count": null,
      "outputs": []
    },
    {
      "cell_type": "code",
      "source": [
        "#array dimension\n",
        "print (c.shape)\n",
        "\n",
        "#number of dimensions\n",
        "print(c.ndim)\n",
        "\n",
        "#number of elements in an array\n",
        "print(c.size)\n",
        "\n",
        "# datatype of value\n",
        "print(c.dtype)"
      ],
      "metadata": {
        "id": "aGDQn6iNsyUC"
      },
      "execution_count": null,
      "outputs": []
    },
    {
      "cell_type": "markdown",
      "source": [
        "Mathematical Operations"
      ],
      "metadata": {
        "id": "p7ZBlrYhw_g1"
      }
    },
    {
      "cell_type": "code",
      "source": [
        "list1= [1,2,3,4,5]\n",
        "list2 = [6,7,8,9,10]\n",
        "print (list1+list2)\n",
        "\n",
        "a= np.random.randint(0,10,(3,3))\n",
        "b= np.random.randint(0,10,(3,3))\n",
        "print(a)\n",
        "\n",
        "print(b)\n",
        "\n",
        "print(a+b)\n",
        "print(np.add(a,b))"
      ],
      "metadata": {
        "id": "0FMLDPUDxI7z"
      },
      "execution_count": null,
      "outputs": []
    },
    {
      "cell_type": "code",
      "source": [],
      "metadata": {
        "id": "AAoJ1UoFxR4m"
      },
      "execution_count": null,
      "outputs": []
    }
  ]
}